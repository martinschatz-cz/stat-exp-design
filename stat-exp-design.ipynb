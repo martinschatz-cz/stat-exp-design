{
 "cells": [
  {
   "cell_type": "markdown",
   "id": "1575ebe0-2bbb-458a-9a42-7302c0f0cc34",
   "metadata": {},
   "source": [
    "Sorces:\n",
    " - https://statsthinking21.github.io/statsthinking21-python/09-StatisticalPower.html\n",
    " - https://machinelearningmastery.com/statistical-power-and-power-analysis-in-python/\n",
    " - https://www.ncbi.nlm.nih.gov/pmc/articles/PMC3693611/"
   ]
  },
  {
   "cell_type": "code",
   "execution_count": 1,
   "id": "91e61019-8cca-458a-b78c-f9d61c2f7376",
   "metadata": {},
   "outputs": [
    {
     "name": "stdout",
     "output_type": "stream",
     "text": [
      "Requirement already satisfied: pandas in c:\\users\\martin\\miniconda3\\envs\\julab\\lib\\site-packages (from -r requirements.txt (line 1)) (1.5.2)\n",
      "Requirement already satisfied: seaborn in c:\\users\\martin\\miniconda3\\envs\\julab\\lib\\site-packages (from -r requirements.txt (line 2)) (0.11.2)\n",
      "Requirement already satisfied: numpy in c:\\users\\martin\\miniconda3\\envs\\julab\\lib\\site-packages (from -r requirements.txt (line 3)) (1.23.5)\n",
      "Requirement already satisfied: matplotlib in c:\\users\\martin\\miniconda3\\envs\\julab\\lib\\site-packages (from -r requirements.txt (line 4)) (3.6.2)\n",
      "Requirement already satisfied: scipy in c:\\users\\martin\\miniconda3\\envs\\julab\\lib\\site-packages (from -r requirements.txt (line 5)) (1.9.3)\n",
      "Requirement already satisfied: statsmodels in c:\\users\\martin\\miniconda3\\envs\\julab\\lib\\site-packages (from -r requirements.txt (line 6)) (0.13.5)\n",
      "Requirement already satisfied: statannotations in c:\\users\\martin\\miniconda3\\envs\\julab\\lib\\site-packages (from -r requirements.txt (line 7)) (0.5.0)\n",
      "Requirement already satisfied: watermark in c:\\users\\martin\\miniconda3\\envs\\julab\\lib\\site-packages (from -r requirements.txt (line 8)) (2.3.1)\n",
      "Requirement already satisfied: python-dateutil>=2.8.1 in c:\\users\\martin\\miniconda3\\envs\\julab\\lib\\site-packages (from pandas->-r requirements.txt (line 1)) (2.8.2)\n",
      "Requirement already satisfied: pytz>=2020.1 in c:\\users\\martin\\miniconda3\\envs\\julab\\lib\\site-packages (from pandas->-r requirements.txt (line 1)) (2022.6)\n",
      "Requirement already satisfied: contourpy>=1.0.1 in c:\\users\\martin\\miniconda3\\envs\\julab\\lib\\site-packages (from matplotlib->-r requirements.txt (line 4)) (1.0.6)\n",
      "Requirement already satisfied: pillow>=6.2.0 in c:\\users\\martin\\miniconda3\\envs\\julab\\lib\\site-packages (from matplotlib->-r requirements.txt (line 4)) (9.3.0)\n",
      "Requirement already satisfied: cycler>=0.10 in c:\\users\\martin\\miniconda3\\envs\\julab\\lib\\site-packages (from matplotlib->-r requirements.txt (line 4)) (0.11.0)\n",
      "Requirement already satisfied: fonttools>=4.22.0 in c:\\users\\martin\\miniconda3\\envs\\julab\\lib\\site-packages (from matplotlib->-r requirements.txt (line 4)) (4.38.0)\n",
      "Requirement already satisfied: pyparsing>=2.2.1 in c:\\users\\martin\\miniconda3\\envs\\julab\\lib\\site-packages (from matplotlib->-r requirements.txt (line 4)) (3.0.9)\n",
      "Requirement already satisfied: packaging>=20.0 in c:\\users\\martin\\miniconda3\\envs\\julab\\lib\\site-packages (from matplotlib->-r requirements.txt (line 4)) (22.0)\n",
      "Requirement already satisfied: kiwisolver>=1.0.1 in c:\\users\\martin\\miniconda3\\envs\\julab\\lib\\site-packages (from matplotlib->-r requirements.txt (line 4)) (1.4.4)\n",
      "Requirement already satisfied: patsy>=0.5.2 in c:\\users\\martin\\miniconda3\\envs\\julab\\lib\\site-packages (from statsmodels->-r requirements.txt (line 6)) (0.5.3)\n",
      "Requirement already satisfied: ipython in c:\\users\\martin\\miniconda3\\envs\\julab\\lib\\site-packages (from watermark->-r requirements.txt (line 8)) (8.7.0)\n",
      "Requirement already satisfied: six in c:\\users\\martin\\miniconda3\\envs\\julab\\lib\\site-packages (from patsy>=0.5.2->statsmodels->-r requirements.txt (line 6)) (1.16.0)\n",
      "Requirement already satisfied: backcall in c:\\users\\martin\\miniconda3\\envs\\julab\\lib\\site-packages (from ipython->watermark->-r requirements.txt (line 8)) (0.2.0)\n",
      "Requirement already satisfied: stack-data in c:\\users\\martin\\miniconda3\\envs\\julab\\lib\\site-packages (from ipython->watermark->-r requirements.txt (line 8)) (0.6.2)\n",
      "Requirement already satisfied: decorator in c:\\users\\martin\\miniconda3\\envs\\julab\\lib\\site-packages (from ipython->watermark->-r requirements.txt (line 8)) (5.1.1)\n",
      "Requirement already satisfied: colorama in c:\\users\\martin\\miniconda3\\envs\\julab\\lib\\site-packages (from ipython->watermark->-r requirements.txt (line 8)) (0.4.6)\n",
      "Requirement already satisfied: jedi>=0.16 in c:\\users\\martin\\miniconda3\\envs\\julab\\lib\\site-packages (from ipython->watermark->-r requirements.txt (line 8)) (0.18.2)\n",
      "Requirement already satisfied: traitlets>=5 in c:\\users\\martin\\miniconda3\\envs\\julab\\lib\\site-packages (from ipython->watermark->-r requirements.txt (line 8)) (5.7.0)\n",
      "Requirement already satisfied: pickleshare in c:\\users\\martin\\miniconda3\\envs\\julab\\lib\\site-packages (from ipython->watermark->-r requirements.txt (line 8)) (0.7.5)\n",
      "Requirement already satisfied: pygments>=2.4.0 in c:\\users\\martin\\miniconda3\\envs\\julab\\lib\\site-packages (from ipython->watermark->-r requirements.txt (line 8)) (2.13.0)\n",
      "Requirement already satisfied: prompt-toolkit<3.1.0,>=3.0.11 in c:\\users\\martin\\miniconda3\\envs\\julab\\lib\\site-packages (from ipython->watermark->-r requirements.txt (line 8)) (3.0.36)\n",
      "Requirement already satisfied: matplotlib-inline in c:\\users\\martin\\miniconda3\\envs\\julab\\lib\\site-packages (from ipython->watermark->-r requirements.txt (line 8)) (0.1.6)\n",
      "Requirement already satisfied: parso<0.9.0,>=0.8.0 in c:\\users\\martin\\miniconda3\\envs\\julab\\lib\\site-packages (from jedi>=0.16->ipython->watermark->-r requirements.txt (line 8)) (0.8.3)\n",
      "Requirement already satisfied: wcwidth in c:\\users\\martin\\miniconda3\\envs\\julab\\lib\\site-packages (from prompt-toolkit<3.1.0,>=3.0.11->ipython->watermark->-r requirements.txt (line 8)) (0.2.5)\n",
      "Requirement already satisfied: asttokens>=2.1.0 in c:\\users\\martin\\miniconda3\\envs\\julab\\lib\\site-packages (from stack-data->ipython->watermark->-r requirements.txt (line 8)) (2.2.1)\n",
      "Requirement already satisfied: pure-eval in c:\\users\\martin\\miniconda3\\envs\\julab\\lib\\site-packages (from stack-data->ipython->watermark->-r requirements.txt (line 8)) (0.2.2)\n",
      "Requirement already satisfied: executing>=1.2.0 in c:\\users\\martin\\miniconda3\\envs\\julab\\lib\\site-packages (from stack-data->ipython->watermark->-r requirements.txt (line 8)) (1.2.0)\n"
     ]
    }
   ],
   "source": [
    "!pip install -r requirements.txt"
   ]
  },
  {
   "cell_type": "markdown",
   "id": "88ee9f25-a94f-4137-b96d-56f4259e6208",
   "metadata": {},
   "source": [
    "# Cohens d\n",
    "Cohens d is a standardized effect size for measuring the difference between two group means. Frequently, you’ll use it when you’re comparing a treatment to a control group. It can be a suitable effect size to include with t-test and ANOVA results.\n",
    "\n",
    "Calculate Cohen’s d by taking the difference between two means and dividing by the data’s standard deviation. This measure reports the size of the mean difference by comparing it to the data’s variability.\n",
    "\n",
    "Typically, you use the pooled standard deviation in the denominator, essentially the average standard deviation across both groups."
   ]
  },
  {
   "cell_type": "code",
   "execution_count": 2,
   "id": "1e7855a4-4054-4e5b-88bf-be02ac7ce781",
   "metadata": {},
   "outputs": [],
   "source": [
    "def cohensD(muA,muB,sigmaA,sigmaB):\n",
    "    pooled_std=(sigmaA+sigmaB)/2\n",
    "    cD=(muA+muB)/pooled_std\n",
    "    return cD"
   ]
  },
  {
   "cell_type": "code",
   "execution_count": 3,
   "id": "fb9bb874-451a-4e4e-a221-5a6942a19f88",
   "metadata": {},
   "outputs": [],
   "source": [
    "import numpy as np\n",
    "import pandas as pd"
   ]
  },
  {
   "cell_type": "code",
   "execution_count": 16,
   "id": "62e0fd4c-2238-4b82-a866-e2a544ef2e4f",
   "metadata": {},
   "outputs": [],
   "source": [
    "num1 = 150 #@param {type:\"slider\", min:3, max:1000, step:1}\n",
    "num2 = 150 #@param {type:\"slider\", min:3, max:1000, step:1}\n",
    "#@markdown ---\n",
    "mu1 = 0 #@param {type:\"slider\", min:-10, max:10, step:0.01}\n",
    "mu2 = 0.05 #@param {type:\"slider\", min:-10, max:10, step:0.01}\n",
    "\n",
    "sigma1 = 0.1 # standard deviation\n",
    "s1 = np.random.normal(mu1, sigma1, num1)\n",
    "d1 = pd.DataFrame(s1, columns = ['Value'])\n",
    "d1['Label'] = '1'\n",
    "\n",
    "sigma2 = 0.1 # standard deviation\n",
    "s2 = np.random.normal(mu2, sigma2, num2)\n",
    "d2 = pd.DataFrame(s2, columns = ['Value'])\n",
    "d2['Label'] = '2'"
   ]
  },
  {
   "cell_type": "code",
   "execution_count": 17,
   "id": "9797ed43-625f-4ec5-837f-64f62d9a054a",
   "metadata": {},
   "outputs": [
    {
     "name": "stdout",
     "output_type": "stream",
     "text": [
      "Cohens d is 0.5\n"
     ]
    }
   ],
   "source": [
    "print(\"Cohens d is {}\".format(cohensD(mu1,mu2,sigma1,sigma2)))"
   ]
  },
  {
   "cell_type": "markdown",
   "id": "17b0ec13-fa39-4040-ad73-283238bd3123",
   "metadata": {},
   "source": [
    "Cohen’s d\tIndicates Mean Difference is:\n",
    " - 0.5\tHalf the standard deviation.\n",
    " - 1\tEqual to the standard deviation.\n",
    " - 2\tTwice the standard deviation.\n",
    " \n",
    " Cohen’s d\tEffect Size\n",
    " - 0.2\tSmall\n",
    " - 0.5\tMedium\n",
    " - 0.8\tLarge"
   ]
  },
  {
   "cell_type": "code",
   "execution_count": 18,
   "id": "428548c1-97b8-4169-ab63-eca24353f1ba",
   "metadata": {},
   "outputs": [],
   "source": [
    "import seaborn as sns"
   ]
  },
  {
   "cell_type": "code",
   "execution_count": 19,
   "id": "b3e644c7-384a-4006-81c5-2b514b9f30c4",
   "metadata": {},
   "outputs": [
    {
     "data": {
      "text/plain": [
       "<AxesSubplot: xlabel='Value', ylabel='Count'>"
      ]
     },
     "execution_count": 19,
     "metadata": {},
     "output_type": "execute_result"
    },
    {
     "data": {
      "image/png": "[encoded data removed]",
      "text/plain": [
       "<Figure size 640x480 with 1 Axes>"
      ]
     },
     "metadata": {},
     "output_type": "display_data"
    }
   ],
   "source": [
    "sns.histplot(data=pd.concat([d1,d2], ignore_index=True), x=\"Value\", kde=True, hue=\"Label\")"
   ]
  },
  {
   "cell_type": "markdown",
   "id": "a69e5fb2-d9bc-4dde-9ca8-f7a39aafedb4",
   "metadata": {},
   "source": [
    "# Power analysis\n",
    "We can compute a power analysis using functions from the statsmodels.stats.power package. Let’s focus on the power for an independent samples t-test in order to determine a difference in the mean between two groups. Let’s say that we think that an effect size of Cohen’s d=0.5 is realistic for the study in question (based on previous research) and would be of scientific interest. We wish to have 80% power to find the effect if it exists. We can compute the sample size needed for adequate power using the TTestIndPower() function:"
   ]
  },
  {
   "cell_type": "code",
   "execution_count": 20,
   "id": "21faddfb-e255-40bc-bd64-8f1105c06b4f",
   "metadata": {},
   "outputs": [],
   "source": [
    "import scipy.stats\n",
    "import statsmodels.stats.power as smp\n",
    "import matplotlib.pyplot as plt\n",
    "\n",
    "effect = 0.5 #based on cohens D\n",
    "alpha = 0.05 \n",
    "power = 0.8 #how often we reject h0 hypotesis"
   ]
  },
  {
   "cell_type": "code",
   "execution_count": 21,
   "id": "03b9a332-1859-49b1-9b41-f1855e14f4ef",
   "metadata": {},
   "outputs": [
    {
     "name": "stdout",
     "output_type": "stream",
     "text": [
      "Sugested sample size: 63.76561177540986\n"
     ]
    }
   ],
   "source": [
    "power_analysis = smp.TTestIndPower()\n",
    "sample_size = power_analysis.solve_power(effect_size=effect, power=power, alpha=alpha)\n",
    "print(\"Sugested sample size: {}\".format(sample_size))"
   ]
  },
  {
   "cell_type": "markdown",
   "id": "7c566f0d-c854-4465-9fa7-15e621e083c1",
   "metadata": {},
   "source": [
    "# Losing power\n",
    "We lose power if we are forced to test with nonparametric test.\n",
    "Non-parametric tests are usually almost as powerful as parametric tests in the circumstances where the parametric tests are appropriate. However, in circumstances where the parametric test may not be appropriate because its assumptions are too badly violated, the non-parametric test may be more powerful. More info here: http://www.dcscience.net/Lectures_on_biostatistics-ocr4.pdf\n",
    "\n",
    "The normality tests are supplementary to the graphical assessment of normality (8). The main tests for the assessment of normality are:\n",
    " - Kolmogorov-Smirnov (K-S) test \n",
    " - Lilliefors corrected K-S test \n",
    " - Shapiro-Wilk test \n",
    " - Anderson-Darling test \n",
    " - Cramer-von Mises test \n",
    " - D’Agostino skewness test \n",
    " - Anscombe-Glynn kurtosis test \n",
    " - D’Agostino-Pearson omnibus test \n",
    " - Jarque-Bera test \n",
    " \n",
    " Some researchers recommend the Shapiro-Wilk test as the best choice for testing the normality of data."
   ]
  },
  {
   "cell_type": "markdown",
   "id": "29a71fee-2e64-47a7-849c-254e5fbc224a",
   "metadata": {},
   "source": [
    "## t-test example"
   ]
  },
  {
   "cell_type": "code",
   "execution_count": 22,
   "id": "3c7d26cd-1eae-4421-8c4b-1dd4a598252b",
   "metadata": {},
   "outputs": [
    {
     "name": "stdout",
     "output_type": "stream",
     "text": [
      "null hypothesis: data sets are from the same distribution\n",
      "Statistics=-3.030, p=0.0029666972824062\n",
      "Different distribution (reject H0)\n"
     ]
    }
   ],
   "source": [
    "# t-test\n",
    "from numpy.random import seed\n",
    "from numpy.random import randn\n",
    "from scipy.stats import ttest_ind\n",
    "# import random  \n",
    "from random import sample \n",
    "data1=d1[['Value',\"Label\"]].sample(n=64, random_state=1)\n",
    "data2=d2[['Value',\"Label\"]].sample(n=64, random_state=1)\n",
    "print('null hypothesis: data sets are from the same distribution')\n",
    "# compare samples\n",
    "stat, p = ttest_ind(data1.Value, data2.Value)\n",
    "print('Statistics=%.3f, p=%.16f' % (stat, p))\n",
    "# interpret\n",
    "alpha = 0.05\n",
    "if p > alpha:\n",
    "\tprint('Same distribution (fail to reject H0)')\n",
    "else:\n",
    "\tprint('Different distribution (reject H0)')"
   ]
  },
  {
   "cell_type": "code",
   "execution_count": 23,
   "id": "3e91a55d-2012-4174-b347-a002e71e2cc5",
   "metadata": {},
   "outputs": [
    {
     "name": "stdout",
     "output_type": "stream",
     "text": [
      "p-value annotation legend:\n",
      "      ns: p <= 1.00e+00\n",
      "       *: 1.00e-02 < p <= 5.00e-02\n",
      "      **: 1.00e-03 < p <= 1.00e-02\n",
      "     ***: 1.00e-04 < p <= 1.00e-03\n",
      "    ****: p <= 1.00e-04\n",
      "\n",
      "1 vs. 2: Custom statistical test, P_val:2.967e-03\n"
     ]
    },
    {
     "data": {
      "image/png": "[encoded data removed]",
      "text/plain": [
       "<Figure size 1200x600 with 1 Axes>"
      ]
     },
     "metadata": {},
     "output_type": "display_data"
    }
   ],
   "source": [
    "from statannotations.Annotator import Annotator\n",
    "plotting_parameters = {\n",
    "    'data':pd.concat([data1,data2], ignore_index=True), \n",
    "    'x':'Label', \n",
    "    'y':'Value', \n",
    "    'showfliers': False,\n",
    "}\n",
    "\n",
    "pairs = [('1', '2'),  # 'Robots' vs 'Flight'\n",
    "        #  ('Flight', 'Sound'),   # 'Flight' vs 'Sound'\n",
    "        #  ('Robots', 'Sound')   # 'Robots' vs 'Sound'\n",
    "         ]\n",
    "\n",
    "formatted_pvalues = [f\"p={p:.2e}\"]\n",
    "\n",
    "with sns.plotting_context(\"notebook\", font_scale=1.4):\n",
    "    # Create new plot\n",
    "    fig, ax = plt.subplots(1, 1, figsize=(12, 6))\n",
    "\n",
    "    # Plot with seaborn\n",
    "    sns.boxplot(ax=ax, **plotting_parameters)\n",
    "\n",
    "    # Add annotations\n",
    "    annotator = Annotator(ax, pairs, **plotting_parameters)\n",
    "    annotator.set_pvalues([p])\n",
    "    annotator.annotate()\n",
    "\n",
    "    # Label and show\n",
    "    plt.title(\"Set comparison T-test\", y=1.06)\n",
    "    plt.show()"
   ]
  },
  {
   "cell_type": "markdown",
   "id": "ac740110-e136-43aa-97b4-1197275e7484",
   "metadata": {},
   "source": [
    "## Mann Whitney test example"
   ]
  },
  {
   "cell_type": "code",
   "execution_count": 24,
   "id": "7966c373-a1b7-4cd9-bc8f-0e092700af77",
   "metadata": {},
   "outputs": [
    {
     "name": "stdout",
     "output_type": "stream",
     "text": [
      "null hypothesis: data sets are from the same distribution\n",
      "Statistics=1417.000, p=0.0026584432023135\n",
      "Different distribution (reject H0)\n"
     ]
    }
   ],
   "source": [
    "# Mann-Whitney U test\n",
    "from numpy.random import seed\n",
    "from numpy.random import randn\n",
    "from scipy.stats import mannwhitneyu\n",
    "# import random  \n",
    "from random import sample \n",
    "data1=d1['Value'].sample(n=64, random_state=1)\n",
    "data2=d2['Value'].sample(n=64, random_state=1)\n",
    "print('null hypothesis: data sets are from the same distribution')\n",
    "# compare samples\n",
    "stat, p = mannwhitneyu(data1, data2)\n",
    "print('Statistics=%.3f, p=%.16f' % (stat, p))\n",
    "# interpret\n",
    "alpha = 0.05\n",
    "if p > alpha:\n",
    "\tprint('Same distribution (fail to reject H0)')\n",
    "else:\n",
    "\tprint('Different distribution (reject H0)')"
   ]
  },
  {
   "cell_type": "code",
   "execution_count": 25,
   "id": "55155c44-0cde-431d-b82a-44b3b37181fe",
   "metadata": {},
   "outputs": [
    {
     "name": "stdout",
     "output_type": "stream",
     "text": [
      "p-value annotation legend:\n",
      "      ns: p <= 1.00e+00\n",
      "       *: 1.00e-02 < p <= 5.00e-02\n",
      "      **: 1.00e-03 < p <= 1.00e-02\n",
      "     ***: 1.00e-04 < p <= 1.00e-03\n",
      "    ****: p <= 1.00e-04\n",
      "\n",
      "1 vs. 2: Custom statistical test, P_val:2.658e-03\n"
     ]
    },
    {
     "data": {
      "image/png": "[encoded data removed]",
      "text/plain": [
       "<Figure size 1200x600 with 1 Axes>"
      ]
     },
     "metadata": {},
     "output_type": "display_data"
    }
   ],
   "source": [
    "formatted_pvalues = [f\"p={p:.2e}\"]\n",
    "\n",
    "with sns.plotting_context(\"notebook\", font_scale=1.4):\n",
    "    # Create new plot\n",
    "    fig, ax = plt.subplots(1, 1, figsize=(12, 6))\n",
    "\n",
    "    # Plot with seaborn\n",
    "    sns.boxplot(ax=ax, **plotting_parameters)\n",
    "\n",
    "    # Add annotations\n",
    "    annotator = Annotator(ax, pairs, **plotting_parameters)\n",
    "    annotator.set_pvalues([p])\n",
    "    annotator.annotate()\n",
    "\n",
    "    # Label and show\n",
    "    plt.title(\"Set comparison M-W\", y=1.06)\n",
    "    plt.show()"
   ]
  },
  {
   "cell_type": "markdown",
   "id": "9fdd4403-5ce6-4368-9ad7-5066397e8703",
   "metadata": {},
   "source": [
    "## t-test power experiment"
   ]
  },
  {
   "cell_type": "code",
   "execution_count": 26,
   "id": "1e597026-9dd6-42b8-8e17-0837dbb047ac",
   "metadata": {},
   "outputs": [
    {
     "name": "stdout",
     "output_type": "stream",
     "text": [
      "T-test power is 0.821\n"
     ]
    }
   ],
   "source": [
    "#+\n",
    "num_runs = 1000\n",
    "effectSize = 0.5\n",
    "\n",
    "# perform power analysis to get sample size\n",
    "power_analysis = smp.TTestIndPower()\n",
    "sampleSize = power_analysis.solve_power(\n",
    "    effect_size=effectSize, power=0.8, alpha=0.05)\n",
    "\n",
    "# round up from estimated sample size\n",
    "sampleSize = np.int32(np.ceil(sampleSize))\n",
    "\n",
    "# create a function that will generate samples and test for\n",
    "# a difference between groups using a two-sample t-test\n",
    "\n",
    "\n",
    "def get_t_result(sampleSize, effectSize):\n",
    "    \"\"\"\n",
    "    perform a ttest on random data of n=sampSize\n",
    "    \"\"\"\n",
    "    \n",
    "    group1 = np.random.normal(loc=0.0, scale=1.0, size=sampleSize)\n",
    "    group2 = np.random.normal(loc=effectSize, scale=1.0, size=sampleSize)\n",
    "    ttresult = scipy.stats.ttest_ind(group1, group2)\n",
    "    return(ttresult.pvalue)\n",
    "\n",
    "\n",
    "# create input data frame for output\n",
    "power_sim_results = pd.DataFrame({'p_value': np.zeros(num_runs)})\n",
    "\n",
    "for run in range(num_runs):\n",
    "    power_sim_results.loc[run, 'p_value'] = get_t_result(sampleSize, effectSize)\n",
    "\n",
    "\n",
    "p_reject = np.mean(power_sim_results['p_value'] < 0.05)\n",
    "print(\"T-test power is {}\".format(p_reject))\n",
    "#-"
   ]
  },
  {
   "cell_type": "markdown",
   "id": "af54bee1-77e0-4d7c-b5f1-e98c2c1c5632",
   "metadata": {},
   "source": [
    "## Mann Whitney power experiment"
   ]
  },
  {
   "cell_type": "code",
   "execution_count": 27,
   "id": "d1e9551a-d5cf-4e14-b201-93127713e3d6",
   "metadata": {},
   "outputs": [
    {
     "name": "stdout",
     "output_type": "stream",
     "text": [
      "Mann Whitney power is 0.772\n"
     ]
    }
   ],
   "source": [
    "#+\n",
    "num_runs = 1000\n",
    "effectSize = 0.5\n",
    "\n",
    "# perform power analysis to get sample size\n",
    "power_analysis = smp.TTestIndPower()\n",
    "sampleSize = power_analysis.solve_power(\n",
    "    effect_size=effectSize, power=0.8, alpha=0.05)\n",
    "\n",
    "# round up from estimated sample size\n",
    "sampleSize = np.int32(np.ceil(sampleSize))\n",
    "\n",
    "# create a function that will generate samples and test for\n",
    "# a difference between groups using a two-sample t-test\n",
    "\n",
    "\n",
    "def get_t_result(sampleSize, effectSize):\n",
    "    \"\"\"\n",
    "    perform a ttest on random data of n=sampSize\n",
    "    \"\"\"\n",
    "    \n",
    "    group1 = np.random.normal(loc=0.0, scale=1.0, size=sampleSize)\n",
    "    group2 = np.random.normal(loc=effectSize, scale=1.0, size=sampleSize)\n",
    "    ttresult = scipy.stats.mannwhitneyu(group1, group2)\n",
    "    return(ttresult.pvalue)\n",
    "\n",
    "\n",
    "# create input data frame for output\n",
    "power_sim_results = pd.DataFrame({'p_value': np.zeros(num_runs)})\n",
    "\n",
    "for run in range(num_runs):\n",
    "    power_sim_results.loc[run, 'p_value'] = get_t_result(sampleSize, effectSize)\n",
    "\n",
    "\n",
    "p_reject = np.mean(power_sim_results['p_value'] < 0.05)\n",
    "print(\"Mann Whitney power is {}\".format(p_reject))\n",
    "#-"
   ]
  },
  {
   "cell_type": "code",
   "execution_count": null,
   "id": "a31cf180-a786-4183-a1f6-34163562f444",
   "metadata": {},
   "outputs": [],
   "source": []
  }
 ],
 "metadata": {
  "kernelspec": {
   "display_name": "Python 3 (ipykernel)",
   "language": "python",
   "name": "python3"
  },
  "language_info": {
   "codemirror_mode": {
    "name": "ipython",
    "version": 3
   },
   "file_extension": ".py",
   "mimetype": "text/x-python",
   "name": "python",
   "nbconvert_exporter": "python",
   "pygments_lexer": "ipython3",
   "version": "3.9.15"
  }
 },
 "nbformat": 4,
 "nbformat_minor": 5
}
